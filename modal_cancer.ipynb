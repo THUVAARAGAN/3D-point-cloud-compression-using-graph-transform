{
 "cells": [
  {
   "cell_type": "code",
   "execution_count": 2,
   "metadata": {},
   "outputs": [],
   "source": [
    "import pickle\n",
    "import numpy as np\n",
    "import tensorflow as tf\n",
    "\n",
    "def pkl_to_tensor(path):\n",
    "    img_lis=[]\n",
    "    lable =[]\n",
    "    with open(path, 'rb') as f:\n",
    "        data = pickle.load(f)\n",
    "        feature = np.array(data['image_array'])\n",
    "        for data in feature:\n",
    "            #print(data[2])\n",
    "            #tensor = transform(data[2])\n",
    "            \n",
    "            X = np.expand_dims(data[2], axis=2)\n",
    "            #print(X.shape)\n",
    "            X = X.astype('float32')\n",
    "            # scale from [0,255] to [0,1]\n",
    "            X = X / 255.0\n",
    "            #print(asarray(X).shape)\n",
    "            img_lis.append([X])\n",
    "            if \"positive\" in path:\n",
    "\n",
    "                lable.append(1)\n",
    "            else:\n",
    "                lable.append(0)\n",
    "            # fe_tensor = tf.convert_to_tensor(feature)\n",
    "            # L.append(fe_tensor)\n",
    "\n",
    "    Butch_ten=tf.concat(img_lis, axis=0)\n",
    "    lable=np.array(lable,dtype=\"uint8\")\n",
    "    rgb_batch = np.repeat(Butch_ten[:,:,:,0][..., np.newaxis], 3, -1)\n",
    "\n",
    "    return rgb_batch,lable"
   ]
  },
  {
   "cell_type": "code",
   "execution_count": 3,
   "metadata": {},
   "outputs": [
    {
     "name": "stderr",
     "output_type": "stream",
     "text": [
      "C:\\Users\\Thenu\\AppData\\Local\\Temp\\ipykernel_6500\\599577646.py:10: VisibleDeprecationWarning: Creating an ndarray from ragged nested sequences (which is a list-or-tuple of lists-or-tuples-or ndarrays with different lengths or shapes) is deprecated. If you meant to do this, you must specify 'dtype=object' when creating the ndarray.\n",
      "  feature = np.array(data['image_array'])\n"
     ]
    }
   ],
   "source": [
    "Butch_ten_pos,lable_pos=pkl_to_tensor(r\"C:\\Users\\Thenu\\Downloads\\cc_positive_11.pkl\")\n",
    "Butch_ten_neg,lable_neg=pkl_to_tensor(r\"C:\\Users\\Thenu\\Downloads\\cc_positive_11.pkl\")"
   ]
  },
  {
   "cell_type": "code",
   "execution_count": 4,
   "metadata": {},
   "outputs": [],
   "source": [
    "import keras\n",
    "from keras.models import Sequential\n",
    "from keras.layers import Input, Dense\n",
    "from keras.applications import ResNet50\n",
    "\n",
    "def model():\n",
    "    model  = Sequential()\n",
    "    model.add(ResNet50(\n",
    "        include_top=False,\n",
    "        pooling='avg',\n",
    "        weights='imagenet',\n",
    "        ))\n",
    "\n",
    "    model.add(Dense(1, activation='softmax'))\n",
    "\n",
    "    model.compile(optimizer='adam', loss='binary_crossentropy', metrics=['accuracy'])\n",
    "    return model"
   ]
  },
  {
   "cell_type": "code",
   "execution_count": 5,
   "metadata": {},
   "outputs": [
    {
     "name": "stdout",
     "output_type": "stream",
     "text": [
      "Model: \"sequential\"\n",
      "_________________________________________________________________\n",
      " Layer (type)                Output Shape              Param #   \n",
      "=================================================================\n",
      " resnet50 (Functional)       (None, 2048)              23587712  \n",
      "                                                                 \n",
      " dense (Dense)               (None, 1)                 2049      \n",
      "                                                                 \n",
      "=================================================================\n",
      "Total params: 23,589,761\n",
      "Trainable params: 23,536,641\n",
      "Non-trainable params: 53,120\n",
      "_________________________________________________________________\n"
     ]
    }
   ],
   "source": [
    "model = model()\n",
    "model.summary()"
   ]
  },
  {
   "cell_type": "code",
   "execution_count": null,
   "metadata": {},
   "outputs": [],
   "source": [
    "n_epochs=4\n",
    "n_batch=2\n",
    "bat_per_epo = int(Butch_ten_pos.shape[0] / n_batch)\n",
    "\n",
    "for i in range(n_epochs):\n",
    "\t\t# enumerate batches over the training set\n",
    "\tfor j in range(bat_per_epo):\n",
    "\t\t\t# get randomly selected 'real' samples\n",
    "\t\t\t#X, y = np.vstack((Butch_ten_pos[j*n_batch:(j+1)*n_batch,:,:,:], lable_pos[j*n_batch:(j+1)*n_batch])), np.vstack((Butch_ten_pos[j*n_batch:(j+1)*n_batch,:,:,:], lable_pos[j*n_batch:(j+1)*n_batch]))\n",
    "\t\t\t# update discriminator model weights\n",
    "\t\t_, real_acc_pos = model.train_on_batch(Butch_ten_pos[j*n_batch:(j+1)*n_batch,:,:,:], lable_pos[j*n_batch:(j+1)*n_batch])\n",
    "\t\t_, real_acc_neg = model.train_on_batch(Butch_ten_neg[j*n_batch:(j+1)*n_batch,:,:,:], lable_neg[j*n_batch:(j+1)*n_batch])\n",
    "\n",
    "\t\tprint((real_acc_neg+real_acc_pos)/2)\n",
    "\n",
    "\tfilename = 'generator_model_%03d.h5' % (i + 1)\n",
    "\tmodel.save(filename)"
   ]
  },
  {
   "cell_type": "code",
   "execution_count": null,
   "metadata": {},
   "outputs": [],
   "source": []
  }
 ],
 "metadata": {
  "kernelspec": {
   "display_name": "base",
   "language": "python",
   "name": "python3"
  },
  "language_info": {
   "codemirror_mode": {
    "name": "ipython",
    "version": 3
   },
   "file_extension": ".py",
   "mimetype": "text/x-python",
   "name": "python",
   "nbconvert_exporter": "python",
   "pygments_lexer": "ipython3",
   "version": "3.9.13"
  },
  "orig_nbformat": 4,
  "vscode": {
   "interpreter": {
    "hash": "ad2bdc8ecc057115af97d19610ffacc2b4e99fae6737bb82f5d7fb13d2f2c186"
   }
  }
 },
 "nbformat": 4,
 "nbformat_minor": 2
}
